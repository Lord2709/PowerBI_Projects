{
 "cells": [
  {
   "cell_type": "markdown",
   "metadata": {},
   "source": [
    "https://www.kaggle.com/datasets/narendrageek/can-generate-automatic-commentary-for-ipl-cricket?select=IPL_SCHEDULE_2008_2020.csv"
   ]
  },
  {
   "cell_type": "markdown",
   "metadata": {},
   "source": [
    "# LIBRARIES "
   ]
  },
  {
   "cell_type": "code",
   "execution_count": 2,
   "metadata": {},
   "outputs": [],
   "source": [
    "import re\n",
    "import pandas as pd\n",
    "import openpyxl\n",
    "from openpyxl import load_workbook\n",
    "import requests\n",
    "from bs4 import BeautifulSoup"
   ]
  },
  {
   "cell_type": "code",
   "execution_count": 15,
   "metadata": {},
   "outputs": [],
   "source": [
    "url = 'https://www.cricbuzz.com/live-cricket-scorecard/10545/kxip-vs-dc-13th-match-indian-premier-league-2008' \n",
    "response = requests.get(url)\n",
    "soup = BeautifulSoup(response.content, 'html.parser')\n",
    "\n",
    "# Extract scorecard data\n",
    "scorecard = soup.find_all('div', class_='cb-col cb-col-100 cb-ltst-wgt-hdr')\n",
    "\n",
    "temp = ''\n",
    "for section in scorecard:\n",
    "    # print(section.get_text(separator='\\n'))\n",
    "    temp += section.get_text(separator='\\n')\n",
    "temp = temp.replace(\"\\n\", \"\")"
   ]
  },
  {
   "cell_type": "code",
   "execution_count": 16,
   "metadata": {},
   "outputs": [
    {
     "data": {
      "text/plain": [
       "'  Delhi Daredevils Innings 158-8 (20 Ov)   Batter  R B 4s 6s SR      Yo Mahesh    not out  6 5 0 0 120.00        Farveez Maharoof    run out (Jayawardene/Sangakkara)  18 12 2 0 150.00        Rajat Bhatia    b Pathan  17 15 1 1 113.33        Manoj Tiwary    c Yuvraj Singh b Singh  39 34 6 0 114.71        Dinesh Karthik    b Yuvraj Singh  24 14 2 1 171.43        Shoaib Malik    c Lee b Singh  19 17 3 0 111.76        Virender Sehwag    lbw b Pathan  6 6 1 0 100.00        Shikhar Dhawan    c Sangakkara b Lee  0 3 0 0 0.00        Gautam Gambhir    c Yuvraj Singh b Singh  18 14 3 0 128.57      Extras  11  \\xa0(b 0, lb 5, w 6, nb 0, p 0)   Total  158   \\xa0(8 wkts, 20 Ov)     Bowler O M R W NB WD ECO     Piyush Chawla   4 0 29 0 0 1 7.25        Vikram Singh   4 0 29 3 0 0 7.25        S Sreesanth   2 0 25 0 0 0 12.50        Irfan Pathan   4 0 26 2 0 3 6.50        Brett Lee   4 0 33 1 0 0 8.25        Yuvraj Singh   2 0 11 1 0 1 5.50       Kings XI Punjab Innings 162-6 (19.3 Ov)   Batter  R B 4s 6s SR      Brett Lee    not out  1 3 0 0 33.33        Irfan Pathan    c Karthik b Mohammad Asif  10 7 2 0 142.86        Simon Katich    run out (Sehwag/Bhatia)  75 52 11 1 144.23        Karan Goel    lbw b McGrath  1 3 0 0 33.33        Tanmay Srivastava    c Karthik b Mahesh  7 9 0 0 77.78        Yuvraj Singh    not out  40 29 3 2 137.93        Mahela Jayawardene    c & b Shoaib Malik  15 14 2 0 107.14        Kumar Sangakkara    c Karthik b Mohammad Asif  4 2 1 0 200.00      Extras  9  \\xa0(b 0, lb 3, w 4, nb 2, p 0)   Total  162   \\xa0(6 wkts, 19.3 Ov)     Bowler O M R W NB WD ECO     Shoaib Malik   3.3 0 32 1 1 2 9.70        Yo Mahesh   4 0 23 1 0 0 5.75        Mohammad Asif   4 0 39 2 1 0 9.75        Rajat Bhatia   1 0 5 0 0 1 5.00        Farveez Maharoof   3 0 31 0 0 1 10.33        Glenn McGrath   4 0 29 1 0 0 7.25     '"
      ]
     },
     "execution_count": 16,
     "metadata": {},
     "output_type": "execute_result"
    }
   ],
   "source": [
    "temp"
   ]
  },
  {
   "cell_type": "code",
   "execution_count": 50,
   "metadata": {},
   "outputs": [
    {
     "name": "stdout",
     "output_type": "stream",
     "text": [
      "DataFrames appended to 'cricket_scorecards.xlsx' successfully!\n"
     ]
    }
   ],
   "source": [
    "# Extract match_id and year from the URL\n",
    "match_id = int(re.search(r'/(\\d+)/', url).group(1))\n",
    "year = int(re.search(r'(\\d+)$', url).group(1))\n",
    "\n",
    "# Extract team names\n",
    "teams = re.findall(r'([A-Za-z\\s]+) Innings', temp)\n",
    "teams = [team.strip() for team in teams]\n",
    "\n",
    "# Split the scorecard into innings\n",
    "innings = temp.split(f\"{teams[1]} Innings\")\n",
    "innings_data = [innings[0], innings[1]]\n",
    "\n",
    "# Create empty lists for storing data\n",
    "batters_data = []\n",
    "bowlers_data = []\n",
    "extras_data = []\n",
    "\n",
    "# Regex patterns\n",
    "# batters_regex = r'([A-Za-z\\s]+)\\s+(not out|run out|c [A-Za-z\\s]+ b [A-Za-z\\s]+|st [A-Za-z\\s]+ b [A-Za-z\\s]+|b [A-Za-z\\s]+|lbw b [A-Za-z\\s]+)\\s+(\\d+)\\s+(\\d+)\\s+(\\d+)\\s+(\\d+)\\s+([\\d.]+)'\n",
    "batters_regex = r'([A-Za-z\\s]+)\\s+(not out|run out\\(.+?\\)|c & b [A-Za-z\\s]+|c [A-Za-z\\s]+ b [A-Za-z\\s]+|b [A-Za-z\\s]+|lbw b [A-Za-z\\s]+)\\s+(\\d+)\\s+(\\d+)\\s+(\\d+)\\s+(\\d+)\\s+([\\d.]+)'\n",
    "bowlers_regex = r'([A-Za-z\\s]+)\\s+(\\d+)\\s+(\\d+)\\s+(\\d+)\\s+(\\d+)\\s+(\\d+)\\s+(\\d+)\\s+([\\d.]+)'\n",
    "extras_pattern = r'Extras\\s+(\\d+)\\s+\\(b (\\d+), lb (\\d+), w (\\d+), nb (\\d+), p (\\d+)\\)'\n",
    "total_pattern = r'Total\\s+(\\d+)\\s+\\((\\d+)\\s+wkts?,\\s+(\\d+(\\.\\d+)?)\\s+Ov\\)'\n",
    "\n",
    "# Loop through the innings and extract relevant data\n",
    "for i, inning in enumerate(innings_data):\n",
    "    inning = re.sub(r'^.*?R B 4s 6s SR\\s*', '', inning)\n",
    "    # print(i,inning)\n",
    "    batting_team = teams[i]\n",
    "    bowling_team = teams[1 - i]\n",
    "\n",
    "    # Extract batters data\n",
    "    batters = re.findall(batters_regex, inning)\n",
    "    for batter in batters:\n",
    "        # dismissal_type = batter[1]\n",
    "        batter_name_with_dismissal = f\"{batter[0].strip()} {batter[1].strip()}\"\n",
    "        batters_data.append({\n",
    "            'Match ID': match_id,\n",
    "            'Year': year,\n",
    "            'Team': batting_team,\n",
    "            'Batter': batter_name_with_dismissal,\n",
    "            # 'Batter': batter[0],\n",
    "            # 'Dismissal': dismissal_type,\n",
    "            'R': int(batter[2]),\n",
    "            'B': int(batter[3]),\n",
    "            '4s': int(batter[4]),\n",
    "            '6s': int(batter[5]),\n",
    "            'SR': float(batter[6]),\n",
    "        })\n",
    "\n",
    "\n",
    "    # Extract extras+total data\n",
    "    extras_match = re.search(extras_pattern, inning)\n",
    "    if extras_match:\n",
    "        # Store the extracted data into a dictionary\n",
    "        extras_data.append({\n",
    "            'Match ID': match_id,\n",
    "            'Year': year,\n",
    "            'Team': bowling_team,\n",
    "            'Total_extras': int(extras_match.group(1)),\n",
    "            'Byes': int(extras_match.group(2)),\n",
    "            'Legbyes': int(extras_match.group(3)),\n",
    "            'Wides': int(extras_match.group(4)),\n",
    "            'Noballs': int(extras_match.group(5)),\n",
    "            'Penalty_runs': int(extras_match.group(6)),\n",
    "        })\n",
    "        # print(\"Extras data fetched sucessfully!!!\")\n",
    "    else:\n",
    "        print(\"Extras and Total data not found.\")\n",
    "   \n",
    "    total_match = re.search(total_pattern, inning)\n",
    "\n",
    "    if total_match:\n",
    "        extras_data[i]['Total_Score'] = int(total_match.group(1))\n",
    "        extras_data[i]['Total_wkts'] = int(total_match.group(2))\n",
    "        extras_data[i]['Total_Overs'] = float(total_match.group(3))\n",
    "    else:\n",
    "        print(\"Total data not found.\")\n",
    "    \n",
    "\n",
    "    inning = re.sub(r'^.*?Bowler O M R W NB WD ECO\\s*', '', inning)\n",
    "    # Extract bowlers data\n",
    "    bowlers = re.findall(bowlers_regex, inning)\n",
    "    for bowler in bowlers:\n",
    "        bowlers_data.append({\n",
    "            'Match ID': match_id,\n",
    "            'Year': year,\n",
    "            'Team': bowling_team,\n",
    "            'Bowler': bowler[0].strip(),\n",
    "            'O': int(bowler[1]),\n",
    "            'M': int(bowler[2]),\n",
    "            'R': int(bowler[3]),\n",
    "            'W': int(bowler[4]),\n",
    "            'NB': int(bowler[5]),\n",
    "            'WD': int(bowler[6]),\n",
    "            'ECO': float(bowler[7]),\n",
    "        })\n",
    "\n",
    "\n",
    "extras_data[1]['Total_Score'], extras_data[0]['Total_Score'] = extras_data[0]['Total_Score'], extras_data[1]['Total_Score']\n",
    "extras_data[1]['Total_Overs'], extras_data[0]['Total_Overs'] = extras_data[0]['Total_Overs'], extras_data[1]['Total_Overs']\n",
    "\n",
    "batters_df = pd.DataFrame(batters_data)\n",
    "bowlers_df = pd.DataFrame(bowlers_data)\n",
    "extras_df = pd.DataFrame(extras_data)\n",
    "\n",
    "# print(\"Batters DataFrame:\")\n",
    "# print(batters_df)\n",
    "# print(\"\\nBowlers DataFrame:\")\n",
    "# print(bowlers_df)\n",
    "# print(\"\\Extras DataFrame:\")\n",
    "# print(extras_df)\n",
    "\n",
    "file_name = 'cricket_scorecards.xlsx'\n",
    "with pd.ExcelWriter(file_name, engine='openpyxl', mode='a', if_sheet_exists='overlay') as writer:\n",
    "    start_row = writer.sheets['Batters'].max_row  # Get the last row of the sheet\n",
    "    batters_df.to_excel(writer, sheet_name='Batters', startrow=start_row, header=False, index=False)\n",
    "    start_row = writer.sheets['Bowlers'].max_row\n",
    "    bowlers_df.to_excel(writer, sheet_name='Bowlers', startrow=start_row, header=False, index=False)\n",
    "    start_row = writer.sheets['Extras'].max_row\n",
    "    extras_df.to_excel(writer, sheet_name='Extras', startrow=start_row, header=False, index=False)\n",
    "\n",
    "print(f\"DataFrames appended to '{file_name}' successfully!\")\n"
   ]
  },
  {
   "cell_type": "code",
   "execution_count": null,
   "metadata": {},
   "outputs": [],
   "source": []
  }
 ],
 "metadata": {
  "kernelspec": {
   "display_name": "Python 3",
   "language": "python",
   "name": "python3"
  },
  "language_info": {
   "codemirror_mode": {
    "name": "ipython",
    "version": 3
   },
   "file_extension": ".py",
   "mimetype": "text/x-python",
   "name": "python",
   "nbconvert_exporter": "python",
   "pygments_lexer": "ipython3",
   "version": "3.12.5"
  }
 },
 "nbformat": 4,
 "nbformat_minor": 2
}
